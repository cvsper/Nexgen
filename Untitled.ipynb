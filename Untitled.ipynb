{
 "cells": [
  {
   "cell_type": "markdown",
   "metadata": {},
   "source": [
    "# Python Stanard Library\n",
    "### by Shamar Donaldson"
   ]
  },
  {
   "cell_type": "markdown",
   "metadata": {},
   "source": [
    "### OS Module\n",
    "* This module provides a portable way of using operating system dependent functionality."
   ]
  },
  {
   "cell_type": "code",
   "execution_count": 1,
   "metadata": {},
   "outputs": [],
   "source": [
    "import os"
   ]
  },
  {
   "cell_type": "code",
   "execution_count": 2,
   "metadata": {},
   "outputs": [
    {
     "data": {
      "text/plain": [
       "0"
      ]
     },
     "execution_count": 2,
     "metadata": {},
     "output_type": "execute_result"
    }
   ],
   "source": [
    "os.system('pwd')"
   ]
  },
  {
   "cell_type": "code",
   "execution_count": 14,
   "metadata": {},
   "outputs": [
    {
     "data": {
      "text/plain": [
       "'/Users/sevs/Desktop/nexgen'"
      ]
     },
     "execution_count": 14,
     "metadata": {},
     "output_type": "execute_result"
    }
   ],
   "source": [
    "os.getcwd()"
   ]
  },
  {
   "cell_type": "code",
   "execution_count": 10,
   "metadata": {},
   "outputs": [],
   "source": [
    "os.chdir(os.getcwd())"
   ]
  },
  {
   "cell_type": "markdown",
   "metadata": {},
   "source": [
    "### Shutil Module\n",
    "* The shutil module offers a number of high-level operations on files and collections of files.\n",
    "* In particular, functions are provided which support file copying and removal."
   ]
  },
  {
   "cell_type": "code",
   "execution_count": 11,
   "metadata": {},
   "outputs": [],
   "source": [
    "import shutil"
   ]
  },
  {
   "cell_type": "code",
   "execution_count": 12,
   "metadata": {},
   "outputs": [],
   "source": [
    "shutil.copy('file.py', 'folder')"
   ]
  },
  {
   "cell_type": "markdown",
   "metadata": {},
   "source": [
    "### Glob Module\n",
    "* The glob module finds all the pathnames matching a specified pattern according to the rules used by the Unix shell, although results are returned in arbitrary order."
   ]
  },
  {
   "cell_type": "code",
   "execution_count": 15,
   "metadata": {},
   "outputs": [],
   "source": [
    "import glob"
   ]
  },
  {
   "cell_type": "code",
   "execution_count": 16,
   "metadata": {},
   "outputs": [
    {
     "data": {
      "text/plain": [
       "['file.py']"
      ]
     },
     "execution_count": 16,
     "metadata": {},
     "output_type": "execute_result"
    }
   ],
   "source": [
    "glob.glob('*.py')"
   ]
  },
  {
   "cell_type": "markdown",
   "metadata": {},
   "source": [
    "### Sys Module\n",
    "* This module provides access to some variables used or maintained by the interpreter and to functions that interact strongly with the interpreter."
   ]
  },
  {
   "cell_type": "code",
   "execution_count": 18,
   "metadata": {},
   "outputs": [],
   "source": [
    "import sys"
   ]
  },
  {
   "cell_type": "code",
   "execution_count": 19,
   "metadata": {},
   "outputs": [
    {
     "data": {
      "text/plain": [
       "['/Library/Python/2.7/site-packages/ipykernel_launcher.py',\n",
       " '-f',\n",
       " '/Users/sevs/Library/Jupyter/runtime/kernel-0755d052-3c1f-49c4-91f7-4db78de19d99.json']"
      ]
     },
     "execution_count": 19,
     "metadata": {},
     "output_type": "execute_result"
    }
   ],
   "source": [
    "sys.argv"
   ]
  },
  {
   "cell_type": "code",
   "execution_count": 24,
   "metadata": {},
   "outputs": [
    {
     "name": "stderr",
     "output_type": "stream",
     "text": [
      "Error: Some thing went wrong try calling 1-800-IGOTANISSUE"
     ]
    }
   ],
   "source": [
    "sys.stderr.write('Error: Some thing went wrong try calling 1-800-IGOTANISSUE')"
   ]
  },
  {
   "cell_type": "markdown",
   "metadata": {},
   "source": [
    "### Re Module\n",
    "* This module provides regular expression matching operations."
   ]
  },
  {
   "cell_type": "code",
   "execution_count": 27,
   "metadata": {},
   "outputs": [],
   "source": [
    "import re"
   ]
  },
  {
   "cell_type": "code",
   "execution_count": 41,
   "metadata": {},
   "outputs": [
    {
     "name": "stdout",
     "output_type": "stream",
     "text": [
      "8133232349\n"
     ]
    }
   ],
   "source": [
    "number = re.findall(r'\\d', 'Please just tell me your number my number is 813-323-2349 thank you.')\n",
    "a=''\n",
    "for x in number:\n",
    "    a += x\n",
    "print a    "
   ]
  },
  {
   "cell_type": "markdown",
   "metadata": {},
   "source": [
    "### Math Module\n",
    "* This module provides access to the mathematical functions defined by the C standard."
   ]
  },
  {
   "cell_type": "code",
   "execution_count": 43,
   "metadata": {},
   "outputs": [],
   "source": [
    "import math"
   ]
  },
  {
   "cell_type": "code",
   "execution_count": 49,
   "metadata": {},
   "outputs": [
    {
     "data": {
      "text/plain": [
       "0.7071067811865476"
      ]
     },
     "execution_count": 49,
     "metadata": {},
     "output_type": "execute_result"
    }
   ],
   "source": [
    "math.cos(math.pi / 4.0)"
   ]
  },
  {
   "cell_type": "code",
   "execution_count": 50,
   "metadata": {},
   "outputs": [
    {
     "data": {
      "text/plain": [
       "6.476142240309339"
      ]
     },
     "execution_count": 50,
     "metadata": {},
     "output_type": "execute_result"
    }
   ],
   "source": [
    "math.log(1230, 3)"
   ]
  },
  {
   "cell_type": "code",
   "execution_count": 51,
   "metadata": {},
   "outputs": [
    {
     "data": {
      "text/plain": [
       "2.23606797749979"
      ]
     },
     "execution_count": 51,
     "metadata": {},
     "output_type": "execute_result"
    }
   ],
   "source": [
    "math.sqrt(5)"
   ]
  },
  {
   "cell_type": "markdown",
   "metadata": {},
   "source": [
    "### Random Module\n",
    "* This module implements pseudo-random number generators for various distributions."
   ]
  },
  {
   "cell_type": "code",
   "execution_count": 52,
   "metadata": {},
   "outputs": [],
   "source": [
    "import random"
   ]
  },
  {
   "cell_type": "code",
   "execution_count": 54,
   "metadata": {},
   "outputs": [
    {
     "data": {
      "text/plain": [
       "'address'"
      ]
     },
     "execution_count": 54,
     "metadata": {},
     "output_type": "execute_result"
    }
   ],
   "source": [
    "random.choice(['age', 'name', 'address'])"
   ]
  },
  {
   "cell_type": "code",
   "execution_count": 56,
   "metadata": {},
   "outputs": [
    {
     "data": {
      "text/plain": [
       "[78706, 24008, 56290, 44828, 54768, 16538, 90552, 65371, 78417, 62277]"
      ]
     },
     "execution_count": 56,
     "metadata": {},
     "output_type": "execute_result"
    }
   ],
   "source": [
    "random.sample(xrange(100000), 10)"
   ]
  },
  {
   "cell_type": "code",
   "execution_count": 57,
   "metadata": {},
   "outputs": [
    {
     "name": "stdout",
     "output_type": "stream",
     "text": [
      "0.223456155925\n"
     ]
    }
   ],
   "source": [
    "random_float = random.random()\n",
    "print(random_float)"
   ]
  },
  {
   "cell_type": "code",
   "execution_count": 59,
   "metadata": {},
   "outputs": [
    {
     "data": {
      "text/plain": [
       "51"
      ]
     },
     "execution_count": 59,
     "metadata": {},
     "output_type": "execute_result"
    }
   ],
   "source": [
    "random.randrange(200)"
   ]
  },
  {
   "cell_type": "markdown",
   "metadata": {},
   "source": [
    "### Urllib2 Module\n",
    "* The urllib2 module defines functions and classes which help in opening URLs (mostly HTTP) in a complex world — basic and digest authentication, redirections, cookies and more."
   ]
  },
  {
   "cell_type": "code",
   "execution_count": 60,
   "metadata": {},
   "outputs": [],
   "source": [
    "import urllib2"
   ]
  },
  {
   "cell_type": "code",
   "execution_count": 65,
   "metadata": {},
   "outputs": [
    {
     "name": "stdout",
     "output_type": "stream",
     "text": [
      "<link rel=\"canonical\" href=\"https://www.data.gov/\" />\n",
      "\n",
      "<meta property=\"og:description\" content=\"The home of the U.S. Government&#8217;s open data Here you will find data, tools, and resources to conduct research, develop web and mobile applications, design data visualizations, and more.\" />\n",
      "\n",
      "<meta property=\"og:url\" content=\"https://www.data.gov/\" />\n",
      "\n",
      "<meta property=\"og:image\" content=\"https://www.data.gov/media/2014/05/data_gov_logo_D_new.png\" />\n",
      "\n",
      "<meta property=\"og:image:secure_url\" content=\"https://www.data.gov/media/2014/05/data_gov_logo_D_new.png\" />\n",
      "\n",
      "<script type='application/ld+json'>{\"@context\":\"http:\\/\\/schema.org\",\"@type\":\"WebSite\",\"@id\":\"#website\",\"url\":\"https:\\/\\/www.data.gov\\/\",\"name\":\"Data.gov\",\"potentialAction\":{\"@type\":\"SearchAction\",\"target\":\"https:\\/\\/www.data.gov\\/?s={search_term_string}\",\"query-input\":\"required name=search_term_string\"}}</script>\n",
      "\n",
      "<link rel='dns-prefetch' href='//www.data.gov' />\n",
      "\n",
      "\t\t\twindow._wpemojiSettings = {\"baseUrl\":\"https:\\/\\/s.w.org\\/images\\/core\\/emoji\\/2.3\\/72x72\\/\",\"ext\":\".png\",\"svgUrl\":\"https:\\/\\/s.w.org\\/images\\/core\\/emoji\\/2.3\\/svg\\/\",\"svgExt\":\".svg\",\"source\":{\"concatemoji\":\"https:\\/\\/www.data.gov\\/wp\\/wp-includes\\/js\\/wp-emoji-release.min.js?ver=4.9.1\"}};\n",
      "\n",
      "<link rel=\"stylesheet\" href=\"https://www.data.gov/app/plugins/simple-tooltips/zebra_tooltips.css?ver=4.9.1\">\n",
      "\n",
      "<link rel=\"stylesheet\" href=\"https://www.data.gov/app/plugins/contact-form-7/includes/css/styles.css?ver=4.9.2\">\n",
      "\n",
      "<link rel=\"stylesheet\" href=\"https://www.data.gov/app/plugins/m-wp-popup/css/colorbox/colorbox.css?ver=0.1\">\n",
      "\n",
      "<link rel=\"stylesheet\" href=\"https://www.data.gov/app/plugins/wp-open311/public/assets/css/chosen.min.css?ver=1.0.0\">\n",
      "\n",
      "<link rel=\"stylesheet\" href=\"https://www.data.gov/app/plugins/wp-open311/public/assets/css/public.css?ver=1.0.0\">\n",
      "\n",
      "<link rel=\"stylesheet\" href=\"https://www.data.gov/app/themes/roots-nextdatagov/assets/css/main.min.css?ver=3c5deb08e1805f39213846d8a3a6ff74\">\n",
      "\n",
      "<link rel=\"stylesheet\" href=\"https://www.data.gov/app/themes/roots-nextdatagov/assets/css/rei.css?ver=4.9.1\">\n",
      "\n",
      "<script type='text/javascript' src='https://www.data.gov/app/plugins/custom-post-view-generator//libs/flowplayer/flowplayer-3.2.13.min.js' defer='defer'></script>\n",
      "\n",
      "<script type='text/javascript' src='https://www.data.gov/app/plugins/custom-post-view-generator/libs/smartpaginator/smartpaginator.min.js' defer='defer'></script>\n",
      "\n",
      "<script type='text/javascript' src='https://www.data.gov/app/plugins/custom-post-view-generator/libs/tablesorter/jquery-tablesorter-min.js' defer='defer'></script>\n",
      "\n",
      "<script type='text/javascript' src='https://www.data.gov/app/plugins/m-wp-popup/js/wpp-popup-frontend.js?ver=0.1' defer='defer'></script>\n",
      "\n",
      "<script type='text/javascript' src='https://www.data.gov/app/plugins/wp-open311/public/assets/js/chosen.jquery.min.js?ver=1.0.0' defer='defer'></script>\n",
      "\n",
      "<script type='text/javascript' src='https://www.data.gov/app/plugins/wp-open311/public/assets/js/public.js?ver=1.0.0' defer='defer'></script>\n",
      "\n",
      "<script type='text/javascript' src='https://www.data.gov/app/themes/roots-nextdatagov/assets/js/vendor/respond.min.js' defer='defer'></script>\n",
      "\n",
      "<script type='text/javascript' src='https://www.data.gov/app/themes/roots-nextdatagov/assets/js/vendor/modernizr-2.7.1.min.js' defer='defer'></script>\n",
      "\n",
      "<script type='text/javascript' src='https://www.data.gov/app/themes/roots-nextdatagov/assets/js/ext-link-handler.js?ver=4.9.1' defer='defer'></script>\n",
      "\n",
      "<script type='text/javascript' src='https://www.data.gov/app/plugins/google-analyticator/external-tracking.min.js?ver=6.5.4' defer='defer'></script>\n",
      "\n",
      "<link rel='https://api.w.org/' href='https://www.data.gov/wp-json/' />\n",
      "\n",
      "<link rel=\"alternate\" type=\"application/json+oembed\" href=\"https://www.data.gov/wp-json/oembed/1.0/embed?url=https%3A%2F%2Fwww.data.gov%2F\" />\n",
      "\n",
      "<link rel=\"alternate\" type=\"text/xml+oembed\" href=\"https://www.data.gov/wp-json/oembed/1.0/embed?url=https%3A%2F%2Fwww.data.gov%2F&amp;format=xml\" />\n",
      "\n",
      "<meta name=\"tec-api-version\" content=\"v1\"><meta name=\"tec-api-origin\" content=\"https://www.data.gov\"><link rel=\"https://theeventscalendar.com/\" href=\"https://www.data.gov/wp-json/tribe/events/v1/\" /><script type=\"text/javascript\" src=\"https://www.data.gov/app/plugins/si-captcha-for-wordpress/captcha/si_captcha.js?ver=1524078244\"></script>\n",
      "\n",
      "  <link rel=\"alternate\" type=\"application/rss+xml\" title=\"Data.gov Feed\" href=\"https://www.data.gov/feed/\">\n",
      "\n",
      "  <link href=\"https://www.data.gov/app/themes/roots-nextdatagov/assets/img/favicon.ico\" rel=\"shortcut icon\" />\n",
      "\n",
      "  <link rel=\"icon\" type=\"image/png\" href=\"https://www.data.gov/app/themes/roots-nextdatagov/assets/img/favicon-120.png\" sizes=\"120x120\" />\n",
      "\n",
      "<center>This is a demonstration site exploring the future of Data.gov. <span id=\"stop-disclaimer\"> Give us your feedback on <a href=\"https://twitter.com/usdatagov\" class=\"local-link\">Twitter</a>, <a href=\"http://quora.com\" class=\"external ext-link\" rel=\"external\" onclick=\"this.target=&#039;_blank&#039;;\">Quora</a></span>, <a href=\"https://github.com/GSA/datagov-design/\" class=\"local-link\">Github</a>, or <a href=\"/contact-engage\">contact us</a></center>\r\n",
      "\n",
      "            <button type=\"button\" class=\"navbar-toggle\" data-toggle=\"collapse\" data-target=\".navbar-collapse\">\n",
      "\n",
      "            <a href=\"https://www.data.gov/\" alt=\"Data.gov\" class=\"local-link\"><h1 class=\"navbar-brand\">Data.gov</h1></a>\n",
      "\n",
      "            <ul id=\"menu-primary-navigation\" class=\"nav navbar-nav navbar-right\"><li class=\"menu-data\"><a href=\"http://catalog.data.gov/dataset\" class=\"local-link\">Data</a></li>\n",
      "\n",
      "<li class=\"dropdown yamm-fw menu-topics\"><a class=\"dropdown-toggle local-link\" data-toggle=\"dropdown\" data-target=\"#\" href=\"https://www.data.gov/communities/\">Topics <b class=\"caret\"></b></a>\n",
      "\n",
      "\t<li class=\"menu-agriculture topic-food\"><a href=\"https://www.data.gov/food/\" class=\"local-link\"><i></i><span>Agriculture</span></a></li>\n",
      "\n",
      "\t<li class=\"menu-climate topic-climate\"><a href=\"https://www.data.gov/climate/\" class=\"local-link\"><i></i><span>Climate</span></a></li>\n",
      "\n",
      "\t<li class=\"menu-consumer topic-consumer\"><a href=\"https://www.data.gov/consumer/\" class=\"local-link\"><i></i><span>Consumer</span></a></li>\n",
      "\n",
      "\t<li class=\"menu-ecosystems topic-ecosystems\"><a href=\"https://www.data.gov/ecosystems/\" class=\"local-link\"><i></i><span>Ecosystems</span></a></li>\n",
      "\n",
      "\t<li class=\"menu-education topic-education\"><a href=\"https://www.data.gov/education/\" class=\"local-link\"><i></i><span>Education</span></a></li>\n",
      "\n",
      "\t<li class=\"menu-energy topic-energy\"><a href=\"https://www.data.gov/energy/\" class=\"local-link\"><i></i><span>Energy</span></a></li>\n",
      "\n",
      "\t<li class=\"menu-finance topic-finance\"><a href=\"https://www.data.gov/finance/\" class=\"local-link\"><i></i><span>Finance</span></a></li>\n",
      "\n",
      "\t<li class=\"menu-health topic-health\"><a href=\"https://www.data.gov/health/\" class=\"local-link\"><i></i><span>Health</span></a></li>\n",
      "\n",
      "\t<li class=\"menu-local-government topic-local\"><a href=\"https://www.data.gov/local/\" class=\"local-link\"><i></i><span>Local Government</span></a></li>\n",
      "\n",
      "\t<li class=\"menu-manufacturing topic-manufacturing\"><a href=\"https://www.data.gov/manufacturing/\" class=\"local-link\"><i></i><span>Manufacturing</span></a></li>\n",
      "\n",
      "\t<li class=\"menu-maritime topic-maritime\"><a href=\"https://www.data.gov/maritime/\" class=\"local-link\"><i></i><span>Maritime</span></a></li>\n",
      "\n",
      "\t<li class=\"menu-ocean topic-ocean\"><a href=\"https://www.data.gov/ocean/\" class=\"local-link\"><i></i><span>Ocean</span></a></li>\n",
      "\n",
      "\t<li class=\"menu-public-safety topic-safety\"><a href=\"https://www.data.gov/safety/\" class=\"local-link\"><i></i><span>Public Safety</span></a></li>\n",
      "\n",
      "\t<li class=\"menu-science-research topic-research\"><a href=\"https://www.data.gov/research/\" class=\"local-link\"><i></i><span>Science &#038; Research</span></a></li>\n",
      "\n",
      "<li class=\"menu-impact\"><a href=\"https://www.data.gov/impact/\" class=\"local-link\">Impact</a></li>\n",
      "\n",
      "<li class=\"menu-applications\"><a href=\"https://www.data.gov/applications\" class=\"local-link\">Applications</a></li>\n",
      "\n",
      "<li class=\"menu-developers\"><a href=\"https://www.data.gov/developers/\" class=\"local-link\">Developers</a></li>\n",
      "\n",
      "<li class=\"menu-contact\"><a href=\"https://www.data.gov/contact\" class=\"local-link\">Contact</a></li>\n",
      "\n",
      "    <img src=\"/app/themes/roots-nextdatagov/assets/img/logo.svg\" />\n",
      "\n",
      "    <h1>The home of the U.S. Government&#8217;s open data</h1>\n",
      "\n",
      "<p>Here you will find data, tools, and resources to conduct research, develop web and mobile applications, design data visualizations, and <a href=\"/about\" style=\"color:#fff; text-decoration:underline\">more</a>.</p>\n",
      "\n",
      "                    <small>Search over <a href=\"/metrics\">194,364 datasets</a>\n",
      "\n",
      "      action=\"//catalog.data.gov/dataset\">\n",
      "\n",
      "               data-strings='{\"targets\":[\"Monthly House Price Indexes\",\"Health Care Provider Charge Data\",\"Credit Card Complaints\",\"Manufacturing &amp; Trade Inventories &amp; Sales\",\"Federal Student Loan Program Data\"]}' value=\"\" name=\"q\" class=\"search-field form-control\"\n",
      "\n",
      "\t\t\t\t\t\t\t\t<p>The U.S. Coast Guard (USCG) is responsible for investigating reportable marine casualties, accidents, and serious marine incidents.  The relevant mission statement and specific regulations can be found on the <a href=\"https://homeport.uscg.mil/Lists/Content/DispForm.aspx?ID=2602\" class=\"external ext-link\" rel=\"external\" onclick=\"this.target=&#039;_blank&#039;;\">USCG Investigations Division homepage</a>.  After an incident has been reported, it is entered into a national database of all marine casualty and pollution incidents.  These important <a href=\"https://homeport.uscg.mil/missions/investigations/marine-casualty-pollution-investigations\" class=\"external ext-link\" rel=\"external\" onclick=\"this.target=&#039;_blank&#039;;\">historical records can then be accessed </a>by researchers interested in understanding maritime safety, accident prevention, or trends in certain types of maritime incidents through time.  Other agencies interested in maritime transportation performance measures rely on the USCG data to <a href=\"http://navigation.usace.army.mil/MTS/Performance/Safety\" class=\"external ext-link\" rel=\"external\" onclick=\"this.target=&#039;_blank&#039;;\">examine incident trends </a>on U.S. waterways.  Files for the <a href=\"https://homeport.uscg.mil/Lists/Content/DispForm.aspx?&amp;ID=211&amp;Source=https://homeport.uscg.mil/missions/investigations/marine-casualty-pollution-investigations\" class=\"external ext-link\" rel=\"external\" onclick=\"this.target=&#039;_blank&#039;;\">Marine Casualty and Pollution Data for Researchers datasets </a>can be downloaded directly from the U.S. Coast Guard Homeport website by following the drop-down menu options on the homepage <strong>Missions</strong>: <strong>Investigations</strong>: <a href=\"https://homeport.uscg.mil/missions/investigations/marine-casualty-pollution-investigations\" class=\"external ext-link\" rel=\"external\" onclick=\"this.target=&#039;_blank&#039;;\">Marine Casualty Pollution Investigations </a>page at https://homeport.uscg.mil/missions/investigations/marine-casualty-pollution-investigations.</p>\n",
      "\n",
      "<p>As described by the USCG, &#8220;the Marine Casualty and Pollution Data files provide details about marine casualty and pollution incidents investigated by Coast Guard Offices throughout the United States. The database can be used to analyze marine accidents and pollution incidents by a variety of factors including vessel or facility type, injuries, fatalities, pollutant details, location, and date.  The data collection period began in 1982 for marine casualties and 1973 for polluting incidents, and is ongoing. Documentation includes entity and attribute descriptions along with suggested solutions to general marine pollution, vessel casualty, and personnel injury and death questions.&#8221;</p>\n",
      "\n",
      "<p>Visitors to the USCG Homeport data download site should note that there are three files available fore download, but it is the second file on the list (named MISLE_DATA.zip) that contains all available marine casualty data from January 2002 &#8211; July 2015.  The files extracted from MISLE_DATA.zip can be opened with most standard spreadsheet editing software programs.</p>\n",
      "\n",
      "<p>USCG Marine Safety Information Data, https://catalog.data.gov/dataset/marine-safety-information-data</p>\n",
      "\n",
      "<p>USCG Facility Pollution Database, https://catalog.data.gov/dataset/uscg-facility-pollution</p>\n",
      "\n",
      "<figure id=\"attachment_24907821\" class=\"thumbnail wp-caption aligncenter\" style=\"width: 714px\"><img class=\"size-full wp-image-24907821\" src=\"https://s3.amazonaws.com/bsp-ocsit-prod-east-appdata/datagov/wordpress/2017/11/USCG-incidents-investigations.jpg\" alt=\"U.S. Coast Guard closed and unresolved incident investigations, 2002 - 2015 (part year)\" width=\"714\" height=\"492\" srcset=\"https://s3.amazonaws.com/bsp-ocsit-prod-east-appdata/datagov/wordpress/2017/11/USCG-incidents-investigations.jpg 714w, https://s3.amazonaws.com/bsp-ocsit-prod-east-appdata/datagov/wordpress/2017/11/USCG-incidents-investigations-300x207.jpg 300w\" sizes=\"(max-width: 714px) 100vw, 714px\" /><figcaption class=\"caption wp-caption-text\">U.S. Coast Guard closed and open incident investigations, 2002 through 2015 (part year).</figcaption></figure>\n",
      "\n",
      "\t\t\t\t<h2 class=\"entry-title\"><a id=\"post-title-25078637\" href=\"https://www.data.gov/ecosystems/ecosystems-ecosystems-ecosystems-ecosystems-ecosystems-ecosystems-ecosystems-p25078637/\" class=\"local-link\">Invasive Species Data, Information &#038; Tools</a></h2>\n",
      "\n",
      "\t\t\t\t<p>During <a href=\"https://www.nisaw.org\" rel=\"noopener external\" target=\"_blank\" class=\"external ext-link\" onclick=\"this.target=&#039;_blank&#039;;\">National Invasive Species Awareness Week</a> (February 26 &#8211; March 2, 2018), we highlight the importance of increasing awareness about the threat invasive species pose to loss of biodiversity and ecosystem function. Invasive species are non-native plants, animals and pathogens whose introductions cause or are &hellip; <a aria-describedby=\"post-title-25078637\" href=\"https://www.data.gov/ecosystems/ecosystems-ecosystems-ecosystems-ecosystems-ecosystems-ecosystems-ecosystems-p25078637/\" class=\"local-link\">Continued</a></p>\n",
      "\n",
      "\t\t<article class=\"post-24906752 post type-post status-publish format-standard hentry category-maritime tag-aquaculture tag-benthic-habitat tag-commercial-shipping tag-connecticut tag-eelgrass tag-fishing tag-georges-bank tag-gulf-of-maine tag-maine tag-maritime tag-massachusetts tag-new-england tag-new-york tag-north-atlantic tag-northeast-region tag-ocean-data tag-ocean-planning tag-oceanography tag-rhode-island tag-shellfish\">\n",
      "\n",
      "\t\t\t\t<h2 class=\"entry-title\"><a id=\"post-title-24906752\" href=\"https://www.data.gov/maritime/p24906752/\" class=\"local-link\">Northeast Ocean Data Portal &#8211; Providing a Common Picture of New England&#8217;s Ocean Uses</a></h2>\n",
      "\n",
      "\t\t\t\t<p>The North Atlantic ocean is a busy place, full of sea life, ships, and &#8211; fortunately &#8211; a slew of data.  Anyone interested in local, state, or regional marine planning efforts in New England can visit the <a href=\"http://www.northeastoceandata.org/\" class=\"external ext-link\" rel=\"external\" onclick=\"this.target=&#039;_blank&#039;;\">Northeast Ocean Data portal </a> (http://www.northeastoceandata.org/), which provides ocean-related &hellip; <a aria-describedby=\"post-title-24906752\" href=\"https://www.data.gov/maritime/p24906752/\" class=\"local-link\">Continued</a></p>\n",
      "\n",
      "\t\t\t\t<h2 class=\"entry-title\"><a id=\"post-title-24587094\" href=\"https://www.data.gov/maritime/p24587094/\" class=\"local-link\">The California Seafloor and Coastal Mapping Program benefits from shared data</a></h2>\n",
      "\n",
      "\t\t\t\t<p>The <a href=\"http://www.opc.ca.gov/category/programs-seafloor-and-coastal-mapping/\" class=\"external ext-link\" rel=\"external\" onclick=\"this.target=&#039;_blank&#039;;\">California Seafloor and Coastal Mapping Program</a> has brought together federal, state, and local stakeholders to develop and share an extensive variety of seafloor-mapping datasets. This collaborative effort that brought together bathymetric (seafloor), geologic, and biological data relevant to California’s State Waters was recently described in &hellip; <a aria-describedby=\"post-title-24587094\" href=\"https://www.data.gov/maritime/p24587094/\" class=\"local-link\">Continued</a></p>\n",
      "\n",
      "\t\t<article class=\"col-md-4 col-lg-4 post-25099197 post type-post status-publish format-status hentry category-developers tag-usdatagov post_format-post-format-status\">\n",
      "\n",
      "                    <img src=\"https://www.data.gov/app/themes/roots-nextdatagov/assets/img/twitter.png\"  alt=\"twitter\">\n",
      "\n",
      "                    <a class=\"author-link local-link\" href=\"https://twitter.com/usdatagov\">\n",
      "\n",
      "                        usdatagov                    </span>\n",
      "\n",
      "                            @usdatagov                        </span>\n",
      "\n",
      "<p class='tweet_text'>Open government data powers apps that provide insights and help people make informed decisions. Explore the latest… <a href=\"https://t.co/cVbzVxtVR7\" target=\"_blank\" class=\"external ext-link\" rel=\"external\" onclick=\"this.target=&#039;_blank&#039;;\">https://t.co/cVbzVxtVR7</a></p>\n",
      "\n",
      "\t\t<article class=\"col-md-4 col-lg-4 post-25093115 post type-post status-publish format-status hentry category-developers tag-usdatagov post_format-post-format-status\">\n",
      "\n",
      "                    <img src=\"https://www.data.gov/app/themes/roots-nextdatagov/assets/img/twitter.png\"  alt=\"twitter\">\n",
      "\n",
      "                    <a class=\"author-link local-link\" href=\"https://twitter.com/usdatagov\">\n",
      "\n",
      "                        usdatagov                    </span>\n",
      "\n",
      "                            @usdatagov                        </span>\n",
      "\n",
      "\t\t<article class=\"col-md-4 col-lg-4 post-25091601 post type-post status-publish format-status has-post-thumbnail hentry category-developers tag-usdatagov post_format-post-format-status\">\n",
      "\n",
      "                    <img src=\"https://www.data.gov/app/themes/roots-nextdatagov/assets/img/twitter.png\"  alt=\"twitter\">\n",
      "\n",
      "                    <a class=\"author-link local-link\" href=\"https://twitter.com/usdatagov\">\n",
      "\n",
      "                        usdatagov                    </span>\n",
      "\n",
      "                            @usdatagov                        </span>\n",
      "\n",
      "                    <a class=\"logo-brand local-link\" href=\"https://www.data.gov/\" alt=\"Data.gov\">Data.gov</a>\n",
      "\n",
      "                <ul id=\"menu-footer2\" class=\"nav\"><li class=\"menu-privacy-and-website-policies\"><a href=\"https://www.data.gov/privacy-policy\" class=\"local-link\">Privacy and Website Policies</a></li>\n",
      "\n",
      "                    <ul id=\"menu-footer\" class=\"nav\"><li class=\"menu-about\"><a href=\"https://www.data.gov/about\" class=\"local-link\">About</a></li>\n",
      "\n",
      "<li class=\"menu-open-government\"><a href=\"https://www.data.gov/open-gov/\" class=\"local-link\">Open Government</a></li>\n",
      "\n",
      "<li class=\"menu-blog\"><a href=\"https://www.data.gov/meta/\" class=\"local-link\">Blog</a></li>\n",
      "\n",
      "<li class=\"menu-metrics\"><a href=\"https://www.data.gov/metrics\" class=\"local-link\">Metrics</a></li>\n",
      "\n",
      "<li class=\"menu-log-in\"><a href=\"https://www.data.gov/wp/wp-login.php\" class=\"local-link\">Log In</a></li>\n",
      "\n",
      "                        <ul id=\"menu-social_navigation\" class=\"nav\"><li><a href=\"https://twitter.com/usdatagov\" title=\"This link will direct you to an external website that may have different content and privacy policies from Data.gov.\" class=\"local-link\"><i class=\"fa fa-twitter\" ></i><span>Twitter</span></a></li>\n",
      "\n",
      "<li><a href=\"http://github.com/GSA/data.gov/\" title=\"This link will direct you to an external website that may have different content and privacy policies from Data.gov.\" class=\"local-link\"><i class=\"fa fa-github\" ></i><span>Github</span></a></li>\n",
      "\n",
      "\t\t<script type='text/javascript'> /* <![CDATA[ */var tribe_l10n_datatables = {\"aria\":{\"sort_ascending\":\": activate to sort column ascending\",\"sort_descending\":\": activate to sort column descending\"},\"length_menu\":\"Show _MENU_ entries\",\"empty_table\":\"No data available in table\",\"info\":\"Showing _START_ to _END_ of _TOTAL_ entries\",\"info_empty\":\"Showing 0 to 0 of 0 entries\",\"info_filtered\":\"(filtered from _MAX_ total entries)\",\"zero_records\":\"No matching records found\",\"search\":\"Search:\",\"all_selected_text\":\"All items on this page were selected. \",\"select_all_link\":\"Select all pages\",\"clear_selection\":\"Clear Selection.\",\"pagination\":{\"all\":\"All\",\"next\":\"Next\",\"previous\":\"Previous\"},\"select\":{\"rows\":{\"0\":\"\",\"_\":\": Selected %d rows\",\"1\":\": Selected 1 row\"}},\"datepicker\":{\"dayNames\":[\"Sunday\",\"Monday\",\"Tuesday\",\"Wednesday\",\"Thursday\",\"Friday\",\"Saturday\"],\"dayNamesShort\":[\"Sun\",\"Mon\",\"Tue\",\"Wed\",\"Thu\",\"Fri\",\"Sat\"],\"dayNamesMin\":[\"S\",\"M\",\"T\",\"W\",\"T\",\"F\",\"S\"],\"monthNames\":[\"January\",\"February\",\"March\",\"April\",\"May\",\"June\",\"July\",\"August\",\"September\",\"October\",\"November\",\"December\"],\"monthNamesShort\":[\"January\",\"February\",\"March\",\"April\",\"May\",\"June\",\"July\",\"August\",\"September\",\"October\",\"November\",\"December\"],\"nextText\":\"Next\",\"prevText\":\"Prev\",\"currentText\":\"Today\",\"closeText\":\"Done\"}};/* ]]> */ </script><script type='text/javascript' src='https://www.data.gov/app/plugins/simple-tooltips/zebra_tooltips.js?ver=4.9.1' defer='defer'></script>\n",
      "\n",
      "var wpcf7 = {\"apiSettings\":{\"root\":\"https:\\/\\/www.data.gov\\/wp-json\\/contact-form-7\\/v1\",\"namespace\":\"contact-form-7\\/v1\"},\"recaptcha\":{\"messages\":{\"empty\":\"Please verify that you are not a robot.\"}}};\n",
      "\n",
      "<script type='text/javascript' src='https://www.data.gov/app/plugins/contact-form-7/includes/js/scripts.js?ver=4.9.2' defer='defer'></script>\n",
      "\n",
      "<script type='text/javascript' src='https://www.data.gov/app/plugins/the-events-calendar/common/vendor/datatables/media/js/jquery.dataTables.min.js?ver=4.7.3' defer='defer'></script>\n",
      "\n",
      "<script type='text/javascript' src='https://www.data.gov/app/themes/roots-nextdatagov/assets/js/scripts.min.js?ver=9ab03eaa29bcfa40a4e8e34e7afda278' defer='defer'></script>\n",
      "\n",
      "<script type='text/javascript' src='https://www.data.gov/wp/wp-includes/js/wp-embed.min.js?ver=4.9.1'></script>\n",
      "\n"
     ]
    }
   ],
   "source": [
    "for line in  urllib2.urlopen('https://data.gov'):\n",
    "    if 'data' in line:\n",
    "        print line"
   ]
  },
  {
   "cell_type": "markdown",
   "metadata": {},
   "source": [
    "### Smtplib Module\n",
    "* The smtplib module defines an SMTP client session object that can be used to send mail to any Internet machine with an SMTP or ESMTP listener daemon. "
   ]
  },
  {
   "cell_type": "code",
   "execution_count": 66,
   "metadata": {},
   "outputs": [],
   "source": [
    "import smtplib"
   ]
  },
  {
   "cell_type": "raw",
   "metadata": {},
   "source": [
    "server = smtplib.SMTP('yourserver')"
   ]
  },
  {
   "cell_type": "raw",
   "metadata": {},
   "source": [
    "server.sendmail('from_example.com', 'to_example.com' 'This is the message body')"
   ]
  },
  {
   "cell_type": "markdown",
   "metadata": {},
   "source": [
    "### Logging Module\n",
    "* This module defines functions and classes which implement a flexible event logging system for applications and libraries."
   ]
  },
  {
   "cell_type": "code",
   "execution_count": 69,
   "metadata": {},
   "outputs": [],
   "source": [
    "import logging"
   ]
  },
  {
   "cell_type": "code",
   "execution_count": 73,
   "metadata": {},
   "outputs": [],
   "source": [
    "logging.debug('Debugging information')"
   ]
  },
  {
   "cell_type": "code",
   "execution_count": 74,
   "metadata": {},
   "outputs": [],
   "source": [
    "logging.info('Infomational messages')"
   ]
  },
  {
   "cell_type": "code",
   "execution_count": 77,
   "metadata": {},
   "outputs": [
    {
     "name": "stderr",
     "output_type": "stream",
     "text": [
      "WARNING:root:Warning: there's a problem\n"
     ]
    }
   ],
   "source": [
    "logging.warning('Warning: there\\'s a problem')"
   ]
  },
  {
   "cell_type": "code",
   "execution_count": 79,
   "metadata": {},
   "outputs": [
    {
     "name": "stderr",
     "output_type": "stream",
     "text": [
      "ERROR:root:Error occurred\n"
     ]
    }
   ],
   "source": [
    "logging.error('Error occurred')"
   ]
  },
  {
   "cell_type": "code",
   "execution_count": 82,
   "metadata": {},
   "outputs": [
    {
     "name": "stderr",
     "output_type": "stream",
     "text": [
      "CRITICAL:root:Critial Error: your computer will self destuct in 5\n"
     ]
    }
   ],
   "source": [
    "logging.critical('Critial Error: your computer will self destuct in 5')"
   ]
  }
 ],
 "metadata": {
  "celltoolbar": "Raw Cell Format",
  "kernelspec": {
   "display_name": "Python 2",
   "language": "python",
   "name": "python2"
  },
  "language_info": {
   "codemirror_mode": {
    "name": "ipython",
    "version": 2
   },
   "file_extension": ".py",
   "mimetype": "text/x-python",
   "name": "python",
   "nbconvert_exporter": "python",
   "pygments_lexer": "ipython2",
   "version": "2.7.10"
  }
 },
 "nbformat": 4,
 "nbformat_minor": 2
}
